{
 "cells": [
  {
   "cell_type": "markdown",
   "id": "8b9f5558",
   "metadata": {},
   "source": [
    "1. What is Flask Framework? What are the advantages of Flask Framework?\n",
    "\n",
    "Ans: Flask is written in Python, allowing developers to build web applications quickly and easily. It is lightweight and flexible and designed to be easy to learn.\n",
    "\n",
    "Flask's advantages include its simplicity, flexibility, and extensibility. "
   ]
  },
  {
   "cell_type": "code",
   "execution_count": 3,
   "id": "03f47a9c",
   "metadata": {},
   "outputs": [
    {
     "name": "stdout",
     "output_type": "stream",
     "text": [
      " * Serving Flask app '__main__'\n",
      " * Debug mode: off\n"
     ]
    },
    {
     "name": "stderr",
     "output_type": "stream",
     "text": [
      "WARNING: This is a development server. Do not use it in a production deployment. Use a production WSGI server instead.\n",
      " * Running on all addresses (0.0.0.0)\n",
      " * Running on http://127.0.0.1:5000\n",
      " * Running on http://192.168.29.45:5000\n",
      "Press CTRL+C to quit\n"
     ]
    }
   ],
   "source": [
    "from flask import Flask\n",
    "from flask import request\n",
    "\n",
    "app = Flask(__name__)\n",
    "\n",
    "@app.route(\"/\")\n",
    "def test():\n",
    "    return \"HELLO WORLD\"\n",
    "\n",
    "if __name__==\"__main__\":\n",
    "    app.run(host=\"0.0.0.0\")"
   ]
  },
  {
   "cell_type": "markdown",
   "id": "6bc20887",
   "metadata": {},
   "source": [
    "![](CAPTURE.png)"
   ]
  },
  {
   "cell_type": "markdown",
   "id": "7002aca9",
   "metadata": {},
   "source": [
    "3. What is App routing in Flask? Why do we use app routes?\n",
    "\n",
    "Ans: In Flask, app routing refers to binding a URL to a function that handles the request to that URL. This process uses the @app.route() decorator, which associates a URL pattern with a Python function."
   ]
  },
  {
   "cell_type": "code",
   "execution_count": 5,
   "id": "5a737311",
   "metadata": {},
   "outputs": [
    {
     "name": "stdout",
     "output_type": "stream",
     "text": [
      " * Serving Flask app '__main__'\n",
      " * Debug mode: off\n"
     ]
    },
    {
     "name": "stderr",
     "output_type": "stream",
     "text": [
      "WARNING: This is a development server. Do not use it in a production deployment. Use a production WSGI server instead.\n",
      " * Running on all addresses (0.0.0.0)\n",
      " * Running on http://127.0.0.1:5000\n",
      " * Running on http://192.168.29.45:5000\n",
      "Press CTRL+C to quit\n"
     ]
    }
   ],
   "source": [
    "from flask import Flask\n",
    "from flask import request\n",
    "\n",
    "app = Flask(__name__)\n",
    "\n",
    "@app.route(\"/welcome\")\n",
    "def page1():\n",
    "    return \"Welcome to ABC Corporation\"\n",
    "\n",
    "@app.route('/detail')\n",
    "def page2():\n",
    "    details = '''Company Name: ABC Corporation,\n",
    "    Location: India,\n",
    "    Contact Detail: 999-999-9999'''\n",
    "    return details\n",
    "\n",
    "if __name__ == \"__main__\":\n",
    "    app.run(host=\"0.0.0.0\")"
   ]
  },
  {
   "cell_type": "markdown",
   "id": "1e26c7dd",
   "metadata": {},
   "source": [
    "![](Capture1.png)\n",
    "![](Capture3.png)"
   ]
  },
  {
   "cell_type": "markdown",
   "id": "023bcfce",
   "metadata": {},
   "source": [
    "5. What function is used in Flask for URL Building? Write a Python code to demonstrate the working of the url_for() function.\n",
    "\n",
    "Ans: In Flask, the url_for() function is used for URL building. It generates a URL for the given endpoint with the method provided."
   ]
  }
 ],
 "metadata": {
  "kernelspec": {
   "display_name": "Python 3 (ipykernel)",
   "language": "python",
   "name": "python3"
  },
  "language_info": {
   "codemirror_mode": {
    "name": "ipython",
    "version": 3
   },
   "file_extension": ".py",
   "mimetype": "text/x-python",
   "name": "python",
   "nbconvert_exporter": "python",
   "pygments_lexer": "ipython3",
   "version": "3.10.8"
  }
 },
 "nbformat": 4,
 "nbformat_minor": 5
}
